{
  "nbformat": 4,
  "nbformat_minor": 0,
  "metadata": {
    "colab": {
      "provenance": []
    },
    "kernelspec": {
      "name": "python3",
      "display_name": "Python 3"
    },
    "language_info": {
      "name": "python"
    }
  },
  "cells": [
    {
      "cell_type": "code",
      "execution_count": 1,
      "metadata": {
        "colab": {
          "base_uri": "https://localhost:8080/"
        },
        "id": "WtJv9JciPUTS",
        "outputId": "45fddc26-9cb5-4a72-e875-9f6fd409beed"
      },
      "outputs": [
        {
          "output_type": "stream",
          "name": "stdout",
          "text": [
            "Requirement already satisfied: tensorflow in /usr/local/lib/python3.11/dist-packages (2.18.0)\n",
            "Requirement already satisfied: absl-py>=1.0.0 in /usr/local/lib/python3.11/dist-packages (from tensorflow) (1.4.0)\n",
            "Requirement already satisfied: astunparse>=1.6.0 in /usr/local/lib/python3.11/dist-packages (from tensorflow) (1.6.3)\n",
            "Requirement already satisfied: flatbuffers>=24.3.25 in /usr/local/lib/python3.11/dist-packages (from tensorflow) (25.2.10)\n",
            "Requirement already satisfied: gast!=0.5.0,!=0.5.1,!=0.5.2,>=0.2.1 in /usr/local/lib/python3.11/dist-packages (from tensorflow) (0.6.0)\n",
            "Requirement already satisfied: google-pasta>=0.1.1 in /usr/local/lib/python3.11/dist-packages (from tensorflow) (0.2.0)\n",
            "Requirement already satisfied: libclang>=13.0.0 in /usr/local/lib/python3.11/dist-packages (from tensorflow) (18.1.1)\n",
            "Requirement already satisfied: opt-einsum>=2.3.2 in /usr/local/lib/python3.11/dist-packages (from tensorflow) (3.4.0)\n",
            "Requirement already satisfied: packaging in /usr/local/lib/python3.11/dist-packages (from tensorflow) (24.2)\n",
            "Requirement already satisfied: protobuf!=4.21.0,!=4.21.1,!=4.21.2,!=4.21.3,!=4.21.4,!=4.21.5,<6.0.0dev,>=3.20.3 in /usr/local/lib/python3.11/dist-packages (from tensorflow) (4.25.6)\n",
            "Requirement already satisfied: requests<3,>=2.21.0 in /usr/local/lib/python3.11/dist-packages (from tensorflow) (2.32.3)\n",
            "Requirement already satisfied: setuptools in /usr/local/lib/python3.11/dist-packages (from tensorflow) (75.1.0)\n",
            "Requirement already satisfied: six>=1.12.0 in /usr/local/lib/python3.11/dist-packages (from tensorflow) (1.17.0)\n",
            "Requirement already satisfied: termcolor>=1.1.0 in /usr/local/lib/python3.11/dist-packages (from tensorflow) (2.5.0)\n",
            "Requirement already satisfied: typing-extensions>=3.6.6 in /usr/local/lib/python3.11/dist-packages (from tensorflow) (4.12.2)\n",
            "Requirement already satisfied: wrapt>=1.11.0 in /usr/local/lib/python3.11/dist-packages (from tensorflow) (1.17.2)\n",
            "Requirement already satisfied: grpcio<2.0,>=1.24.3 in /usr/local/lib/python3.11/dist-packages (from tensorflow) (1.70.0)\n",
            "Requirement already satisfied: tensorboard<2.19,>=2.18 in /usr/local/lib/python3.11/dist-packages (from tensorflow) (2.18.0)\n",
            "Requirement already satisfied: keras>=3.5.0 in /usr/local/lib/python3.11/dist-packages (from tensorflow) (3.8.0)\n",
            "Requirement already satisfied: numpy<2.1.0,>=1.26.0 in /usr/local/lib/python3.11/dist-packages (from tensorflow) (1.26.4)\n",
            "Requirement already satisfied: h5py>=3.11.0 in /usr/local/lib/python3.11/dist-packages (from tensorflow) (3.12.1)\n",
            "Requirement already satisfied: ml-dtypes<0.5.0,>=0.4.0 in /usr/local/lib/python3.11/dist-packages (from tensorflow) (0.4.1)\n",
            "Requirement already satisfied: tensorflow-io-gcs-filesystem>=0.23.1 in /usr/local/lib/python3.11/dist-packages (from tensorflow) (0.37.1)\n",
            "Requirement already satisfied: wheel<1.0,>=0.23.0 in /usr/local/lib/python3.11/dist-packages (from astunparse>=1.6.0->tensorflow) (0.45.1)\n",
            "Requirement already satisfied: rich in /usr/local/lib/python3.11/dist-packages (from keras>=3.5.0->tensorflow) (13.9.4)\n",
            "Requirement already satisfied: namex in /usr/local/lib/python3.11/dist-packages (from keras>=3.5.0->tensorflow) (0.0.8)\n",
            "Requirement already satisfied: optree in /usr/local/lib/python3.11/dist-packages (from keras>=3.5.0->tensorflow) (0.14.0)\n",
            "Requirement already satisfied: charset-normalizer<4,>=2 in /usr/local/lib/python3.11/dist-packages (from requests<3,>=2.21.0->tensorflow) (3.4.1)\n",
            "Requirement already satisfied: idna<4,>=2.5 in /usr/local/lib/python3.11/dist-packages (from requests<3,>=2.21.0->tensorflow) (3.10)\n",
            "Requirement already satisfied: urllib3<3,>=1.21.1 in /usr/local/lib/python3.11/dist-packages (from requests<3,>=2.21.0->tensorflow) (2.3.0)\n",
            "Requirement already satisfied: certifi>=2017.4.17 in /usr/local/lib/python3.11/dist-packages (from requests<3,>=2.21.0->tensorflow) (2025.1.31)\n",
            "Requirement already satisfied: markdown>=2.6.8 in /usr/local/lib/python3.11/dist-packages (from tensorboard<2.19,>=2.18->tensorflow) (3.7)\n",
            "Requirement already satisfied: tensorboard-data-server<0.8.0,>=0.7.0 in /usr/local/lib/python3.11/dist-packages (from tensorboard<2.19,>=2.18->tensorflow) (0.7.2)\n",
            "Requirement already satisfied: werkzeug>=1.0.1 in /usr/local/lib/python3.11/dist-packages (from tensorboard<2.19,>=2.18->tensorflow) (3.1.3)\n",
            "Requirement already satisfied: MarkupSafe>=2.1.1 in /usr/local/lib/python3.11/dist-packages (from werkzeug>=1.0.1->tensorboard<2.19,>=2.18->tensorflow) (3.0.2)\n",
            "Requirement already satisfied: markdown-it-py>=2.2.0 in /usr/local/lib/python3.11/dist-packages (from rich->keras>=3.5.0->tensorflow) (3.0.0)\n",
            "Requirement already satisfied: pygments<3.0.0,>=2.13.0 in /usr/local/lib/python3.11/dist-packages (from rich->keras>=3.5.0->tensorflow) (2.18.0)\n",
            "Requirement already satisfied: mdurl~=0.1 in /usr/local/lib/python3.11/dist-packages (from markdown-it-py>=2.2.0->rich->keras>=3.5.0->tensorflow) (0.1.2)\n"
          ]
        }
      ],
      "source": [
        "pip install tensorflow\n"
      ]
    },
    {
      "cell_type": "code",
      "source": [
        "import tensorflow as tf\n",
        "import numpy as np\n",
        "\n",
        "# Disable eager execution to use TF1-style code (placeholders, sessions, etc.)\n",
        "tf.compat.v1.disable_eager_execution()\n",
        "\n",
        "# ---------------------------\n",
        "# 1. Load and Prepare MNIST Data\n",
        "# ---------------------------\n",
        "# Load the MNIST dataset (handwritten digits 0-9)\n",
        "(x_train, y_train), (x_test, y_test) = tf.keras.datasets.mnist.load_data()\n",
        "\n",
        "# Normalize pixel values to the range [0,1] and flatten images from 28x28 to 784 features\n",
        "x_train = x_train.reshape(-1, 784).astype(np.float32) / 255.0\n",
        "x_test  = x_test.reshape(-1, 784).astype(np.float32) / 255.0\n",
        "\n",
        "# Convert labels to one-hot vectors (10 classes: digits 0-9)\n",
        "num_classes = 10\n",
        "y_train = np.eye(num_classes)[y_train]\n",
        "y_test  = np.eye(num_classes)[y_test]\n",
        "\n",
        "# ---------------------------\n",
        "# 2. Create Placeholders for Inputs and Labels\n",
        "# ---------------------------\n",
        "# Placeholder for input images (batch size, 784 features)\n",
        "x_ph = tf.compat.v1.placeholder(tf.float32, [None, 784], name=\"x\")\n",
        "# Placeholder for true labels (batch size, 10 classes)\n",
        "y_ph = tf.compat.v1.placeholder(tf.float32, [None, 10],  name=\"y\")\n",
        "\n",
        "# ---------------------------\n",
        "# 3. Define Network Architecture\n",
        "# ---------------------------\n",
        "# Hidden layer with 256 neurons\n",
        "hidden_units = 256\n",
        "W1 = tf.Variable(tf.random.normal([784, hidden_units], stddev=0.1), name=\"W1\")\n",
        "b1 = tf.Variable(tf.zeros([hidden_units]), name=\"b1\")\n",
        "\n",
        "# Output layer with 10 neurons (one per digit class)\n",
        "W2 = tf.Variable(tf.random.normal([hidden_units, 10], stddev=0.1), name=\"W2\")\n",
        "b2 = tf.Variable(tf.zeros([10]), name=\"b2\")\n",
        "\n",
        "# ---------------------------\n",
        "# 4. Build Feed-Forward Computation\n",
        "# ---------------------------\n",
        "# Hidden layer: Linear transformation + ReLU activation function\n",
        "z1 = tf.matmul(x_ph, W1) + b1\n",
        "a1 = tf.nn.relu(z1)\n",
        "\n",
        "# Output layer: Linear transformation (logits)\n",
        "logits = tf.matmul(a1, W2) + b2\n",
        "\n",
        "# Convert logits to probabilities using softmax (for evaluation purposes)\n",
        "predictions = tf.nn.softmax(logits)\n",
        "\n",
        "# ---------------------------\n",
        "# 5. Define Loss and Back-Propagation (Training)\n",
        "# ---------------------------\n",
        "# Compute softmax cross-entropy loss\n",
        "loss = tf.reduce_mean(tf.nn.softmax_cross_entropy_with_logits(labels=y_ph, logits=logits))\n",
        "# Define the Adam optimizer to minimize loss\n",
        "optimizer = tf.compat.v1.train.AdamOptimizer(learning_rate=0.001).minimize(loss)\n",
        "\n",
        "# ---------------------------\n",
        "# 6. Define Accuracy Metric\n",
        "# ---------------------------\n",
        "# Check if predicted label matches true label\n",
        "correct_pred = tf.equal(tf.argmax(predictions, 1), tf.argmax(y_ph, 1))\n",
        "# Compute mean accuracy\n",
        "accuracy = tf.reduce_mean(tf.cast(correct_pred, tf.float32))\n",
        "\n",
        "# ---------------------------\n",
        "# 7. Training Parameters\n",
        "# ---------------------------\n",
        "epochs = 10  # Number of training iterations\n",
        "batch_size = 100  # Number of samples per batch\n",
        "num_batches = x_train.shape[0] // batch_size  # Total batches per epoch\n",
        "\n",
        "# ---------------------------\n",
        "# 8. Train the Neural Network\n",
        "# ---------------------------\n",
        "with tf.compat.v1.Session() as sess:\n",
        "    # Initialize all variables\n",
        "    sess.run(tf.compat.v1.global_variables_initializer())\n",
        "\n",
        "    for epoch in range(epochs):\n",
        "        # (Optional) Shuffle training data at the start of each epoch\n",
        "        indices = np.arange(x_train.shape[0])\n",
        "        np.random.shuffle(indices)\n",
        "        x_train = x_train[indices]\n",
        "        y_train = y_train[indices]\n",
        "\n",
        "        # Iterate through mini-batches\n",
        "        for i in range(num_batches):\n",
        "            batch_x = x_train[i*batch_size:(i+1)*batch_size]\n",
        "            batch_y = y_train[i*batch_size:(i+1)*batch_size]\n",
        "            # Perform a single optimization step\n",
        "            sess.run(optimizer, feed_dict={x_ph: batch_x, y_ph: batch_y})\n",
        "\n",
        "        # Evaluate training performance after each epoch\n",
        "        train_loss, train_acc = sess.run([loss, accuracy], feed_dict={x_ph: x_train, y_ph: y_train})\n",
        "        print(\"Epoch:\", epoch+1, \"Loss:\", train_loss, \"Accuracy:\", train_acc)\n",
        "\n",
        "    # Evaluate final performance on the test set\n",
        "    test_acc = sess.run(accuracy, feed_dict={x_ph: x_test, y_ph: y_test})\n",
        "    print(\"Test Accuracy:\", test_acc)\n"
      ],
      "metadata": {
        "colab": {
          "base_uri": "https://localhost:8080/"
        },
        "id": "LUenwrOxPnfG",
        "outputId": "d26ac0de-fa7c-4628-96a5-a5cd341f7a75"
      },
      "execution_count": 2,
      "outputs": [
        {
          "output_type": "stream",
          "name": "stdout",
          "text": [
            "Downloading data from https://storage.googleapis.com/tensorflow/tf-keras-datasets/mnist.npz\n",
            "\u001b[1m11490434/11490434\u001b[0m \u001b[32m━━━━━━━━━━━━━━━━━━━━\u001b[0m\u001b[37m\u001b[0m \u001b[1m0s\u001b[0m 0us/step\n",
            "Epoch: 1 Loss: 0.14532256 Accuracy: 0.95875\n",
            "Epoch: 2 Loss: 0.08886271 Accuracy: 0.9744167\n",
            "Epoch: 3 Loss: 0.06024558 Accuracy: 0.98303336\n",
            "Epoch: 4 Loss: 0.043127332 Accuracy: 0.9881667\n",
            "Epoch: 5 Loss: 0.03147328 Accuracy: 0.99221665\n",
            "Epoch: 6 Loss: 0.02447108 Accuracy: 0.9943\n",
            "Epoch: 7 Loss: 0.023404032 Accuracy: 0.99361664\n",
            "Epoch: 8 Loss: 0.01626449 Accuracy: 0.9964\n",
            "Epoch: 9 Loss: 0.013151448 Accuracy: 0.99725\n",
            "Epoch: 10 Loss: 0.009994991 Accuracy: 0.9978833\n",
            "Test Accuracy: 0.9793\n"
          ]
        }
      ]
    },
    {
      "cell_type": "code",
      "source": [],
      "metadata": {
        "id": "qnm2isPLPxhs"
      },
      "execution_count": null,
      "outputs": []
    }
  ]
}