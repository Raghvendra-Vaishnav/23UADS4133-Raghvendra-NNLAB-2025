{
 "cells": [
  {
   "cell_type": "markdown",
   "metadata": {},
   "source": [
    "# Import Libraries"
   ]
  },
  {
   "cell_type": "code",
   "execution_count": 1,
   "metadata": {},
   "outputs": [],
   "source": [
    "import tensorflow as tf\n",
    "import tensorflow_datasets as tfds\n",
    "import numpy as np\n",
    "import seaborn as sns\n",
    "import matplotlib.pyplot as plt\n",
    "import pandas as pd\n",
    "import time\n",
    "import os\n",
    "from sklearn.metrics import confusion_matrix"
   ]
  },
  {
   "cell_type": "markdown",
   "metadata": {},
   "source": [
    "# Check for GPU availability"
   ]
  },
  {
   "cell_type": "code",
   "execution_count": 2,
   "metadata": {},
   "outputs": [
    {
     "name": "stdout",
     "output_type": "stream",
     "text": [
      "No GPU found. Running on CPU.\n"
     ]
    }
   ],
   "source": [
    "# Check for GPU availability\n",
    "gpus = tf.config.list_physical_devices('GPU')\n",
    "if gpus:\n",
    "    try:\n",
    "        for gpu in gpus:\n",
    "            tf.config.experimental.set_memory_growth(gpu, True)\n",
    "        print(\"GPU is available and memory growth is enabled.\")\n",
    "    except RuntimeError as e:\n",
    "        print(e)\n",
    "else:\n",
    "    print(\"No GPU found. Running on CPU.\")"
   ]
  },
  {
   "cell_type": "markdown",
   "metadata": {},
   "source": [
    "# Disable eager execution for TensorFlow v1 compatibility\n",
    "\n",
    "- to use graphs of tensorflow v-1.x"
   ]
  },
  {
   "cell_type": "code",
   "execution_count": 3,
   "metadata": {},
   "outputs": [
    {
     "name": "stdout",
     "output_type": "stream",
     "text": [
      "WARNING:tensorflow:From C:\\Users\\harsh\\AppData\\Local\\Temp\\ipykernel_9948\\3627907875.py:2: The name tf.disable_eager_execution is deprecated. Please use tf.compat.v1.disable_eager_execution instead.\n",
      "\n"
     ]
    }
   ],
   "source": [
    "# Disable eager execution for TensorFlow v1 compatibility\n",
    "tf.compat.v1.disable_eager_execution()"
   ]
  },
  {
   "cell_type": "markdown",
   "metadata": {},
   "source": [
    "# Load MNIST dataset"
   ]
  },
  {
   "cell_type": "code",
   "execution_count": 4,
   "metadata": {},
   "outputs": [],
   "source": [
    "# Load MNIST dataset\n",
    "mnist, info = tfds.load('mnist', with_info=True, as_supervised=True)"
   ]
  },
  {
   "cell_type": "markdown",
   "metadata": {},
   "source": [
    "# Create results directory"
   ]
  },
  {
   "cell_type": "code",
   "execution_count": 5,
   "metadata": {},
   "outputs": [],
   "source": [
    "# Create results directory\n",
    "folder = \"results_lr0.01\"\n",
    "os.makedirs(folder, exist_ok=True)"
   ]
  },
  {
   "cell_type": "markdown",
   "metadata": {},
   "source": [
    "# defining activation function and preprocess function"
   ]
  },
  {
   "cell_type": "code",
   "execution_count": 6,
   "metadata": {},
   "outputs": [],
   "source": [
    "def activation_function(x):\n",
    "    return tf.nn.relu(x)\n",
    "\n",
    "def preprocess(image, label):\n",
    "    image = tf.reshape(image, [784])\n",
    "    image = tf.cast(image, tf.float32) / 255.0\n",
    "    label = tf.one_hot(label, 10)\n",
    "    return image, label"
   ]
  },
  {
   "cell_type": "markdown",
   "metadata": {},
   "source": [
    "# made a function to plot_and_save_results"
   ]
  },
  {
   "cell_type": "code",
   "execution_count": 7,
   "metadata": {},
   "outputs": [],
   "source": [
    "def plot_and_save_results(loss_history, accuracy_history, cm, filename):\n",
    "    plt.figure(figsize=(18, 5))\n",
    "\n",
    "    # Loss Curve\n",
    "    plt.subplot(1, 3, 1)\n",
    "    plt.plot(loss_history, label='Loss', color='blue')\n",
    "    plt.xlabel('Epoch')\n",
    "    plt.ylabel('Loss')\n",
    "    plt.title('Loss Curve')\n",
    "    plt.legend()\n",
    "\n",
    "    # Accuracy Curve\n",
    "    plt.subplot(1, 3, 2)\n",
    "    plt.plot(accuracy_history, label='Accuracy', color='green')\n",
    "    plt.xlabel('Epoch')\n",
    "    plt.ylabel('Accuracy')\n",
    "    plt.title('Accuracy Curve')\n",
    "    plt.legend()\n",
    "\n",
    "    # Confusion Matrix\n",
    "    plt.subplot(1, 3, 3)\n",
    "    sns.heatmap(cm, annot=True, fmt='d', cmap='Blues', xticklabels=range(10), yticklabels=range(10))\n",
    "    plt.xlabel('Predicted Label')\n",
    "    plt.ylabel('True Label')\n",
    "    plt.title('Confusion Matrix')\n",
    "\n",
    "    # Save combined image\n",
    "    plt.savefig(filename)\n",
    "    plt.close()"
   ]
  },
  {
   "cell_type": "markdown",
   "metadata": {},
   "source": [
    "# defining train_and_evaluate function"
   ]
  },
  {
   "cell_type": "code",
   "execution_count": 8,
   "metadata": {},
   "outputs": [],
   "source": [
    "def train_and_evaluate(hidden_layers, learning_rate):\n",
    "    start_time = time.time()\n",
    "    train_data = mnist['train'].map(preprocess).shuffle(60000).batch(batch_size).cache().prefetch(tf.data.experimental.AUTOTUNE)\n",
    "    test_data = mnist['test'].map(preprocess).batch(batch_size).cache().prefetch(tf.data.experimental.AUTOTUNE)\n",
    "\n",
    "    iterator = tf.compat.v1.data.make_initializable_iterator(train_data)\n",
    "    next_element = iterator.get_next()\n",
    "\n",
    "    X = tf.compat.v1.placeholder(tf.float32, [None, 784])\n",
    "    Y = tf.compat.v1.placeholder(tf.float32, [None, 10])\n",
    "\n",
    "    weights = {}\n",
    "    biases = {}\n",
    "    prev_size = 784\n",
    "    layer = X\n",
    "\n",
    "    for i, size in enumerate(hidden_layers):\n",
    "        weights[f'h{i+1}'] = tf.Variable(tf.random.normal([prev_size, size]))\n",
    "        biases[f'b{i+1}'] = tf.Variable(tf.random.normal([size]))\n",
    "        layer = activation_function(tf.add(tf.matmul(layer, weights[f'h{i+1}']), biases[f'b{i+1}']))\n",
    "        prev_size = size\n",
    "\n",
    "    weights['out'] = tf.Variable(tf.random.normal([prev_size, 10]))\n",
    "    biases['out'] = tf.Variable(tf.random.normal([10]))\n",
    "    logits = tf.add(tf.matmul(layer, weights['out']), biases['out'])\n",
    "\n",
    "    loss_op = tf.reduce_mean(tf.nn.softmax_cross_entropy_with_logits(logits=logits, labels=Y))\n",
    "    optimizer = tf.compat.v1.train.AdamOptimizer(learning_rate=learning_rate)\n",
    "    train_op = optimizer.minimize(loss_op)\n",
    "    correct_pred = tf.equal(tf.argmax(logits, 1), tf.argmax(Y, 1))\n",
    "    accuracy = tf.reduce_mean(tf.cast(correct_pred, tf.float32))\n",
    "\n",
    "    init = tf.compat.v1.global_variables_initializer()\n",
    "    loss_history = []\n",
    "    accuracy_history = []\n",
    "\n",
    "    with tf.compat.v1.Session() as sess:\n",
    "        sess.run(init)\n",
    "        sess.run(iterator.initializer)\n",
    "        for epoch in range(epochs):\n",
    "            epoch_loss = []\n",
    "            epoch_acc = []\n",
    "            try:\n",
    "                while True:\n",
    "                    batch_x, batch_y = sess.run(next_element)\n",
    "                    _, loss, acc = sess.run([train_op, loss_op, accuracy], feed_dict={X: batch_x, Y: batch_y})\n",
    "                    epoch_loss.append(loss)\n",
    "                    epoch_acc.append(acc)\n",
    "            except tf.errors.OutOfRangeError:\n",
    "                sess.run(iterator.initializer)\n",
    "\n",
    "            # Compute and store average loss/accuracy per epoch\n",
    "            loss_history.append(np.mean(epoch_loss))\n",
    "            accuracy_history.append(np.mean(epoch_acc))\n",
    "\n",
    "\n",
    "        print(f\"Completed: Layers={hidden_layers}, LR={learning_rate}\")\n",
    "        test_iterator = tf.compat.v1.data.make_initializable_iterator(test_data)\n",
    "        next_test_element = test_iterator.get_next()\n",
    "        sess.run(test_iterator.initializer)\n",
    "        test_acc = 0\n",
    "        test_count = 0\n",
    "        y_true, y_pred = [], []\n",
    "\n",
    "        while True:\n",
    "            try:\n",
    "                test_images, test_labels = sess.run(next_test_element)\n",
    "                acc, preds = sess.run([accuracy, tf.argmax(logits, 1)], feed_dict={X: test_images, Y: test_labels})\n",
    "                y_true.extend(np.argmax(test_labels, axis=1))\n",
    "                y_pred.extend(preds)\n",
    "                test_acc += acc\n",
    "                test_count += 1\n",
    "            except tf.errors.OutOfRangeError:\n",
    "                break\n",
    "\n",
    "        test_acc /= test_count\n",
    "        cm = confusion_matrix(y_true, y_pred)\n",
    "        execution_time = time.time() - start_time\n",
    "\n",
    "        # Ensure the directory exists\n",
    "        subfolder = f\"{folder}/relu_{hidden_layers}_{learning_rate}\"\n",
    "        os.makedirs(subfolder, exist_ok=True)\n",
    "\n",
    "        plot_filename = f\"{subfolder}/results_{hidden_layers}_{learning_rate}.png\"\n",
    "\n",
    "        # Save combined loss, accuracy, and confusion matrix plot\n",
    "        plot_and_save_results(loss_history, accuracy_history, cm, plot_filename)\n",
    "\n",
    "        return loss_history, accuracy_history, test_acc, cm, execution_time, plot_filename"
   ]
  },
  {
   "cell_type": "markdown",
   "metadata": {},
   "source": [
    "# Define Parameters ()"
   ]
  },
  {
   "cell_type": "code",
   "execution_count": 9,
   "metadata": {},
   "outputs": [],
   "source": [
    "# Parameters\n",
    "batch_size = 10 # Updated batch size\n",
    "epochs = 50\n",
    "activations = ['relu']\n",
    "hidden_layer_sizes_double_layer = [(160,100), (100,160), (100,100), (100,60), (60,60)]\n",
    "# learning_rates = [1, 0.1 , 0.01, 0.001]\n",
    "learning_rates = [0.01]"
   ]
  },
  {
   "cell_type": "markdown",
   "metadata": {},
   "source": [
    "# looping through all variation defined"
   ]
  },
  {
   "cell_type": "code",
   "execution_count": 10,
   "metadata": {},
   "outputs": [
    {
     "name": "stdout",
     "output_type": "stream",
     "text": [
      "WARNING:tensorflow:From C:\\Users\\harsh\\AppData\\Local\\Temp\\ipykernel_9948\\3085713839.py:6: The name tf.data.make_initializable_iterator is deprecated. Please use tf.compat.v1.data.make_initializable_iterator instead.\n",
      "\n"
     ]
    },
    {
     "name": "stderr",
     "output_type": "stream",
     "text": [
      "WARNING:tensorflow:From C:\\Users\\harsh\\AppData\\Local\\Temp\\ipykernel_9948\\3085713839.py:6: The name tf.data.make_initializable_iterator is deprecated. Please use tf.compat.v1.data.make_initializable_iterator instead.\n",
      "\n"
     ]
    },
    {
     "name": "stdout",
     "output_type": "stream",
     "text": [
      "WARNING:tensorflow:From C:\\Users\\harsh\\AppData\\Local\\Temp\\ipykernel_9948\\3085713839.py:28: The name tf.train.AdamOptimizer is deprecated. Please use tf.compat.v1.train.AdamOptimizer instead.\n",
      "\n"
     ]
    },
    {
     "name": "stderr",
     "output_type": "stream",
     "text": [
      "WARNING:tensorflow:From C:\\Users\\harsh\\AppData\\Local\\Temp\\ipykernel_9948\\3085713839.py:28: The name tf.train.AdamOptimizer is deprecated. Please use tf.compat.v1.train.AdamOptimizer instead.\n",
      "\n"
     ]
    },
    {
     "name": "stdout",
     "output_type": "stream",
     "text": [
      "Completed: Layers=(160, 100), LR=0.01\n",
      "Completed: Layers=(100, 160), LR=0.01\n",
      "Completed: Layers=(100, 100), LR=0.01\n",
      "Completed: Layers=(100, 60), LR=0.01\n",
      "Completed: Layers=(60, 60), LR=0.01\n",
      "Results saved to training_results.csv\n"
     ]
    }
   ],
   "source": [
    "results_double_layer = []\n",
    "for hidden_sizes in hidden_layer_sizes_double_layer:\n",
    "    for lr in learning_rates:\n",
    "        loss_hist, acc_hist, test_acc, cm, exec_time, plot_file = train_and_evaluate(hidden_sizes, lr)\n",
    "        results_double_layer.append([hidden_sizes, lr, loss_hist[-1], acc_hist[-1], test_acc, exec_time])\n",
    "\n",
    "columns = [\"Hidden Layers\", \"Learning Rate\", \"Final Loss\", \"Final Accuracy\", \"Test Accuracy\", \"Execution Time\"]\n",
    "df_double_layer = pd.DataFrame(results_double_layer, columns=columns)\n",
    "\n",
    "# Save results as CSV file\n",
    "df_double_layer.to_csv(f\"{folder}/training_results.csv\", index=False)\n",
    "\n",
    "print(\"Results saved to training_results.csv\")"
   ]
  },
  {
   "cell_type": "code",
   "execution_count": null,
   "metadata": {},
   "outputs": [],
   "source": []
  }
 ],
 "metadata": {
  "kernelspec": {
   "display_name": "Projects",
   "language": "python",
   "name": "python3"
  },
  "language_info": {
   "codemirror_mode": {
    "name": "ipython",
    "version": 3
   },
   "file_extension": ".py",
   "mimetype": "text/x-python",
   "name": "python",
   "nbconvert_exporter": "python",
   "pygments_lexer": "ipython3",
   "version": "3.12.8"
  }
 },
 "nbformat": 4,
 "nbformat_minor": 2
}
